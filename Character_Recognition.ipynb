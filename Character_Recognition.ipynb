{
  "nbformat": 4,
  "nbformat_minor": 0,
  "metadata": {
    "kernelspec": {
      "display_name": "Python 3",
      "language": "python",
      "name": "python3"
    },
    "language_info": {
      "codemirror_mode": {
        "name": "ipython",
        "version": 3
      },
      "file_extension": ".py",
      "mimetype": "text/x-python",
      "name": "python",
      "nbconvert_exporter": "python",
      "pygments_lexer": "ipython3",
      "version": "3.6.5"
    },
    "colab": {
      "name": "Character Recognition1.ipynb",
      "provenance": []
    }
  },
  "cells": [
    {
      "cell_type": "code",
      "metadata": {
        "id": "f9ypK0DuFWl4",
        "colab_type": "code",
        "colab": {},
        "outputId": "db75341c-fb8b-4421-ff38-c53218350914"
      },
      "source": [
        "import os\n",
        "import numpy as np\n",
        "from keras.preprocessing import image\n",
        "PATH=os.getcwd()\n",
        "train_path=PATH+'\\DevanagariHandwrittenCharacterDataset\\Train'\n",
        "train_batch=os.listdir(train_path)\n",
        "\n"
      ],
      "execution_count": 0,
      "outputs": [
        {
          "output_type": "stream",
          "text": [
            "D:\\Anaconda\\lib\\site-packages\\h5py\\__init__.py:36: FutureWarning: Conversion of the second argument of issubdtype from `float` to `np.floating` is deprecated. In future, it will be treated as `np.float64 == np.dtype(float).type`.\n",
            "  from ._conv import register_converters as _register_converters\n",
            "Using TensorFlow backend.\n"
          ],
          "name": "stderr"
        }
      ]
    },
    {
      "cell_type": "code",
      "metadata": {
        "id": "ZCpXT46sFWmK",
        "colab_type": "code",
        "colab": {}
      },
      "source": [
        "x_train=[]\n",
        "y_train=[]\n",
        "names={}\n",
        "\n",
        "i=0\n",
        "for classes in train_batch:\n",
        "# #         print(classes)\n",
        "        \n",
        "        imaes_list = os.listdir(train_path+'\\\\'+classes)\n",
        "        for imaes in imaes_list:\n",
        "\n",
        "            img_path=train_path+ '\\\\' + classes+ '\\\\'+ imaes\n",
        "            x=image.load_img(img_path)\n",
        "            x=np.array(x)\n",
        "            x = np.asarray(x)\n",
        "            \n",
        "            x_train.append(x)\n",
        "\n",
        "            y_train.append(i)\n",
        "            names[i]=classes\n",
        "        i=i+1"
      ],
      "execution_count": 0,
      "outputs": []
    },
    {
      "cell_type": "code",
      "metadata": {
        "id": "hxlvryV2FWmT",
        "colab_type": "code",
        "colab": {}
      },
      "source": [
        "test_path=PATH+'\\DevanagariHandwrittenCharacterDataset\\Test'\n",
        "test_batch=os.listdir(test_path)\n",
        "x_test=[]\n",
        "y_test=[]\n",
        "names_test={}\n",
        "i=0\n",
        "for classes in test_batch:\n",
        "\n",
        "        imaes_list = os.listdir(test_path+'\\\\'+classes)\n",
        "        for imaes in imaes_list:\n",
        "\n",
        "            img_path=test_path+ '\\\\' + classes+ '\\\\'+ imaes\n",
        "            x=image.load_img(img_path)\n",
        "            x=np.array(x)\n",
        "            x = np.asarray(x)\n",
        "\n",
        "            x_test.append(x)\n",
        "            y_test.append(i)\n",
        "            names_test[i]=classes\n",
        "        i=i+1"
      ],
      "execution_count": 0,
      "outputs": []
    },
    {
      "cell_type": "code",
      "metadata": {
        "id": "zAbDwTe3FWmc",
        "colab_type": "code",
        "colab": {}
      },
      "source": [
        "x_test=np.array(x_test)\n",
        "x_test=x_test.reshape(13800,32,32,3)\n",
        "x_train=np.array(x_train) \n",
        "x_train=x_train.reshape(78200,32,32,3)"
      ],
      "execution_count": 0,
      "outputs": []
    },
    {
      "cell_type": "code",
      "metadata": {
        "id": "cNS3CB1BFWml",
        "colab_type": "code",
        "colab": {}
      },
      "source": [
        "y_train=np.array(y_train)\n",
        "y_test=np.array(y_test)"
      ],
      "execution_count": 0,
      "outputs": []
    },
    {
      "cell_type": "code",
      "metadata": {
        "id": "IDPqntZFFWmu",
        "colab_type": "code",
        "colab": {}
      },
      "source": [
        "from __future__ import print_function\n",
        "import keras\n",
        "# from keras.datasets import mnist\n",
        "from keras.layers import Dense, Flatten\n",
        "from keras.layers import Conv2D, MaxPooling2D\n",
        "from keras.models import Sequential\n",
        "import matplotlib.pylab as plt"
      ],
      "execution_count": 0,
      "outputs": []
    },
    {
      "cell_type": "code",
      "metadata": {
        "id": "U6utuh6GFWm8",
        "colab_type": "code",
        "colab": {}
      },
      "source": [
        "model = Sequential()\n",
        "model.add(Conv2D(4, kernel_size=(5, 5), strides=(1, 1),\n",
        "                 activation='relu',\n",
        "                 input_shape=(32,32,3)))\n",
        "model.add(MaxPooling2D(pool_size=(2, 2), strides=(2, 2)))\n",
        "model.add(Conv2D(8, (5, 5),strides=(1,1), activation='relu'))\n",
        "model.add(MaxPooling2D(pool_size=(2, 2)))\n",
        "model.add(Flatten())\n",
        "model.add(Dense(128, activation='relu'))\n",
        "model.add(Dense(46, activation='softmax'))"
      ],
      "execution_count": 0,
      "outputs": []
    },
    {
      "cell_type": "code",
      "metadata": {
        "id": "QjhajXzIFWnE",
        "colab_type": "code",
        "colab": {}
      },
      "source": [
        "model.compile(loss=keras.losses.sparse_categorical_crossentropy,\n",
        "              optimizer=keras.optimizers.SGD(lr=0.01),\n",
        "              metrics=['accuracy'])"
      ],
      "execution_count": 0,
      "outputs": []
    },
    {
      "cell_type": "code",
      "metadata": {
        "id": "Y3m-B5P1FWnM",
        "colab_type": "code",
        "colab": {}
      },
      "source": [
        "# model.compile(loss=keras.losses.sparse_categorical_crossentropy,\n",
        "#               optimizer=keras.optimizers.SGD(lr=0.01),\n",
        "#               metrics=['accuracy'])\n"
      ],
      "execution_count": 0,
      "outputs": []
    },
    {
      "cell_type": "code",
      "metadata": {
        "id": "pRZa9AyOFWnV",
        "colab_type": "code",
        "colab": {}
      },
      "source": [
        "class AccuracyHistory(keras.callbacks.Callback):\n",
        "    def on_train_begin(self, logs={}):\n",
        "        self.acc = []\n",
        "\n",
        "    def on_epoch_end(self, batch, logs={}):\n",
        "        self.acc.append(logs.get('acc'))\n",
        "\n",
        "history = AccuracyHistory()"
      ],
      "execution_count": 0,
      "outputs": []
    },
    {
      "cell_type": "code",
      "metadata": {
        "id": "UloDoVAWFWne",
        "colab_type": "code",
        "colab": {},
        "outputId": "4edb66fb-045c-47e6-89c9-bf726dd9f11d"
      },
      "source": [
        "model.fit(x_train, y_train,\n",
        "          batch_size=200,\n",
        "          epochs=50,\n",
        "          verbose=1,\n",
        "          validation_data=(x_test, y_test),\n",
        "          callbacks=[history])"
      ],
      "execution_count": 0,
      "outputs": [
        {
          "output_type": "stream",
          "text": [
            "Train on 78200 samples, validate on 13800 samples\n",
            "Epoch 1/50\n",
            "78200/78200 [==============================] - 101s 1ms/step - loss: 3.9606 - acc: 0.0933 - val_loss: 2.8269 - val_acc: 0.2437\n",
            "Epoch 2/50\n",
            "78200/78200 [==============================] - 98s 1ms/step - loss: 2.3094 - acc: 0.3661 - val_loss: 2.0466 - val_acc: 0.4171\n",
            "Epoch 3/50\n",
            "78200/78200 [==============================] - 99s 1ms/step - loss: 1.8343 - acc: 0.4808 - val_loss: 1.6146 - val_acc: 0.5304\n",
            "Epoch 4/50\n",
            "78200/78200 [==============================] - 99s 1ms/step - loss: 1.6339 - acc: 0.5361 - val_loss: 1.5255 - val_acc: 0.5606\n",
            "Epoch 5/50\n",
            "78200/78200 [==============================] - 98s 1ms/step - loss: 1.4882 - acc: 0.5742 - val_loss: 1.3118 - val_acc: 0.6264\n",
            "Epoch 6/50\n",
            "78200/78200 [==============================] - 99s 1ms/step - loss: 1.3629 - acc: 0.6076 - val_loss: 2.0273 - val_acc: 0.4303\n",
            "Epoch 7/50\n",
            "78200/78200 [==============================] - 98s 1ms/step - loss: 1.2800 - acc: 0.6323 - val_loss: 1.3553 - val_acc: 0.6422\n",
            "Epoch 8/50\n",
            "78200/78200 [==============================] - 98s 1ms/step - loss: 1.1920 - acc: 0.6563 - val_loss: 1.1882 - val_acc: 0.6747\n",
            "Epoch 9/50\n",
            "78200/78200 [==============================] - 98s 1ms/step - loss: 1.1234 - acc: 0.6752 - val_loss: 1.0732 - val_acc: 0.6974\n",
            "Epoch 10/50\n",
            "78200/78200 [==============================] - 98s 1ms/step - loss: 1.0765 - acc: 0.6886 - val_loss: 1.0876 - val_acc: 0.6872\n",
            "Epoch 11/50\n",
            "78200/78200 [==============================] - 98s 1ms/step - loss: 1.0149 - acc: 0.7049 - val_loss: 1.0143 - val_acc: 0.7198\n",
            "Epoch 12/50\n",
            "78200/78200 [==============================] - 98s 1ms/step - loss: 0.9675 - acc: 0.7191 - val_loss: 0.9677 - val_acc: 0.7226\n",
            "Epoch 13/50\n",
            "78200/78200 [==============================] - 98s 1ms/step - loss: 0.9247 - acc: 0.7321 - val_loss: 0.9929 - val_acc: 0.7193\n",
            "Epoch 14/50\n",
            "78200/78200 [==============================] - 99s 1ms/step - loss: 0.8903 - acc: 0.7386 - val_loss: 0.8891 - val_acc: 0.7467\n",
            "Epoch 15/50\n",
            "78200/78200 [==============================] - 99s 1ms/step - loss: 0.8505 - acc: 0.7514 - val_loss: 0.8864 - val_acc: 0.7428\n",
            "Epoch 16/50\n",
            "78200/78200 [==============================] - 99s 1ms/step - loss: 0.8089 - acc: 0.7623 - val_loss: 0.8243 - val_acc: 0.7616\n",
            "Epoch 17/50\n",
            "78200/78200 [==============================] - 103s 1ms/step - loss: 0.7897 - acc: 0.7676 - val_loss: 0.8445 - val_acc: 0.7530\n",
            "Epoch 18/50\n",
            "78200/78200 [==============================] - 100s 1ms/step - loss: 0.7593 - acc: 0.7770 - val_loss: 0.8442 - val_acc: 0.7664\n",
            "Epoch 19/50\n",
            "78200/78200 [==============================] - 100s 1ms/step - loss: 0.7371 - acc: 0.7841 - val_loss: 0.7698 - val_acc: 0.7777\n",
            "Epoch 20/50\n",
            "78200/78200 [==============================] - 102s 1ms/step - loss: 0.7000 - acc: 0.7928 - val_loss: 0.7208 - val_acc: 0.7907\n",
            "Epoch 21/50\n",
            "78200/78200 [==============================] - 105s 1ms/step - loss: 0.6849 - acc: 0.7953 - val_loss: 0.7438 - val_acc: 0.7916\n",
            "Epoch 22/50\n",
            "78200/78200 [==============================] - 110s 1ms/step - loss: 0.6683 - acc: 0.8020 - val_loss: 0.7030 - val_acc: 0.7992\n",
            "Epoch 23/50\n",
            "78200/78200 [==============================] - 99s 1ms/step - loss: 0.6422 - acc: 0.8091 - val_loss: 0.7049 - val_acc: 0.7928\n",
            "Epoch 24/50\n",
            "78200/78200 [==============================] - 104s 1ms/step - loss: 0.6271 - acc: 0.8128 - val_loss: 0.6964 - val_acc: 0.7954\n",
            "Epoch 25/50\n",
            "78200/78200 [==============================] - 102s 1ms/step - loss: 0.6100 - acc: 0.8171 - val_loss: 0.6662 - val_acc: 0.8155\n",
            "Epoch 26/50\n",
            "78200/78200 [==============================] - 102s 1ms/step - loss: 0.5999 - acc: 0.8212 - val_loss: 0.6583 - val_acc: 0.8111\n",
            "Epoch 27/50\n",
            "78200/78200 [==============================] - 99s 1ms/step - loss: 0.5822 - acc: 0.8259 - val_loss: 0.6283 - val_acc: 0.8180\n",
            "Epoch 28/50\n",
            "78200/78200 [==============================] - 101s 1ms/step - loss: 0.5665 - acc: 0.8316 - val_loss: 0.6695 - val_acc: 0.8135\n",
            "Epoch 29/50\n",
            "78200/78200 [==============================] - 96s 1ms/step - loss: 0.5442 - acc: 0.8362 - val_loss: 0.6122 - val_acc: 0.8253\n",
            "Epoch 30/50\n",
            "78200/78200 [==============================] - 96s 1ms/step - loss: 0.5338 - acc: 0.8392 - val_loss: 0.7927 - val_acc: 0.7641\n",
            "Epoch 31/50\n",
            "78200/78200 [==============================] - 96s 1ms/step - loss: 0.5278 - acc: 0.8413 - val_loss: 0.6065 - val_acc: 0.8236\n",
            "Epoch 32/50\n",
            "78200/78200 [==============================] - 97s 1ms/step - loss: 0.5101 - acc: 0.8470 - val_loss: 0.6097 - val_acc: 0.8251\n",
            "Epoch 33/50\n",
            "78200/78200 [==============================] - 97s 1ms/step - loss: 0.5035 - acc: 0.8483 - val_loss: 0.7678 - val_acc: 0.8031\n",
            "Epoch 34/50\n",
            "78200/78200 [==============================] - 97s 1ms/step - loss: 0.4952 - acc: 0.8515 - val_loss: 0.6060 - val_acc: 0.8251\n",
            "Epoch 35/50\n",
            "78200/78200 [==============================] - 97s 1ms/step - loss: 0.4865 - acc: 0.8538 - val_loss: 0.5737 - val_acc: 0.8374\n",
            "Epoch 36/50\n",
            "78200/78200 [==============================] - 96s 1ms/step - loss: 0.4755 - acc: 0.8563 - val_loss: 0.5620 - val_acc: 0.8439\n",
            "Epoch 37/50\n",
            "78200/78200 [==============================] - 106s 1ms/step - loss: 0.4616 - acc: 0.8591 - val_loss: 0.5764 - val_acc: 0.8382\n",
            "Epoch 38/50\n",
            "78200/78200 [==============================] - 98s 1ms/step - loss: 0.4487 - acc: 0.8631 - val_loss: 0.5344 - val_acc: 0.8450\n",
            "Epoch 39/50\n",
            "78200/78200 [==============================] - 96s 1ms/step - loss: 0.4466 - acc: 0.8640 - val_loss: 0.5172 - val_acc: 0.8544\n",
            "Epoch 40/50\n",
            "78200/78200 [==============================] - 103s 1ms/step - loss: 0.4423 - acc: 0.8659 - val_loss: 0.5189 - val_acc: 0.8519\n",
            "Epoch 41/50\n",
            "78200/78200 [==============================] - 121s 2ms/step - loss: 0.4302 - acc: 0.8685 - val_loss: 0.6705 - val_acc: 0.8059\n",
            "Epoch 42/50\n",
            "78200/78200 [==============================] - 123s 2ms/step - loss: 0.4301 - acc: 0.8694 - val_loss: 0.5319 - val_acc: 0.8476\n",
            "Epoch 43/50\n",
            "78200/78200 [==============================] - 132s 2ms/step - loss: 0.4097 - acc: 0.8756 - val_loss: 0.5094 - val_acc: 0.8554\n",
            "Epoch 44/50\n",
            "78200/78200 [==============================] - 125s 2ms/step - loss: 0.4052 - acc: 0.8743 - val_loss: 0.6554 - val_acc: 0.8088\n",
            "Epoch 45/50\n",
            "78200/78200 [==============================] - 127s 2ms/step - loss: 0.4014 - acc: 0.8786 - val_loss: 0.5193 - val_acc: 0.8518\n",
            "Epoch 46/50\n",
            "78200/78200 [==============================] - 132s 2ms/step - loss: 0.3950 - acc: 0.8790 - val_loss: 0.5596 - val_acc: 0.8397\n",
            "Epoch 47/50\n",
            "78200/78200 [==============================] - 126s 2ms/step - loss: 0.3907 - acc: 0.8804 - val_loss: 0.5002 - val_acc: 0.8605\n",
            "Epoch 48/50\n",
            "78200/78200 [==============================] - 101s 1ms/step - loss: 0.3766 - acc: 0.8847 - val_loss: 0.5483 - val_acc: 0.8441\n",
            "Epoch 49/50\n",
            "78200/78200 [==============================] - 100s 1ms/step - loss: 0.3737 - acc: 0.8858 - val_loss: 0.5347 - val_acc: 0.8449\n",
            "Epoch 50/50\n",
            "78200/78200 [==============================] - 100s 1ms/step - loss: 0.3660 - acc: 0.8874 - val_loss: 0.5298 - val_acc: 0.8520\n"
          ],
          "name": "stdout"
        },
        {
          "output_type": "execute_result",
          "data": {
            "text/plain": [
              "<keras.callbacks.History at 0xb67ff38390>"
            ]
          },
          "metadata": {
            "tags": []
          },
          "execution_count": 11
        }
      ]
    },
    {
      "cell_type": "code",
      "metadata": {
        "id": "SrKNk8mKFWnn",
        "colab_type": "code",
        "colab": {},
        "outputId": "531d9f3b-d67a-4f03-8b6f-188a3cdeb7db"
      },
      "source": [
        "score = model.evaluate(x_test, y_test, verbose=0)\n",
        "print('Test loss:', score[0])\n",
        "print('Test accuracy:', score[1])"
      ],
      "execution_count": 0,
      "outputs": [
        {
          "output_type": "stream",
          "text": [
            "Test loss: 0.5297949976687306\n",
            "Test accuracy: 0.8519565217391304\n"
          ],
          "name": "stdout"
        }
      ]
    },
    {
      "cell_type": "code",
      "metadata": {
        "id": "w_78cg1fFWnw",
        "colab_type": "code",
        "colab": {},
        "outputId": "5ca73d26-b312-4662-9175-593f68049894"
      },
      "source": [
        "plt.plot(range(1,51), history.acc)\n",
        "plt.xlabel('Epochs')\n",
        "plt.ylabel('Accuracy')\n",
        "plt.show()"
      ],
      "execution_count": 0,
      "outputs": [
        {
          "output_type": "display_data",
          "data": {
            "image/png": "[encoded data removed]",
            "text/plain": [
              "<Figure size 432x288 with 1 Axes>"
            ]
          },
          "metadata": {
            "tags": []
          }
        }
      ]
    },
    {
      "cell_type": "code",
      "metadata": {
        "id": "wmDWPYxWFWn5",
        "colab_type": "code",
        "colab": {}
      },
      "source": [
        "# ttt=model.predict_classes(x_test)"
      ],
      "execution_count": 0,
      "outputs": []
    },
    {
      "cell_type": "code",
      "metadata": {
        "id": "BOXhdR2aFWoB",
        "colab_type": "code",
        "colab": {},
        "outputId": "061983fd-f9ac-421a-9c6d-7ece954f0221"
      },
      "source": [
        "model.summary()"
      ],
      "execution_count": 0,
      "outputs": [
        {
          "output_type": "stream",
          "text": [
            "_________________________________________________________________\n",
            "Layer (type)                 Output Shape              Param #   \n",
            "=================================================================\n",
            "conv2d_1 (Conv2D)            (None, 28, 28, 4)         304       \n",
            "_________________________________________________________________\n",
            "max_pooling2d_1 (MaxPooling2 (None, 14, 14, 4)         0         \n",
            "_________________________________________________________________\n",
            "conv2d_2 (Conv2D)            (None, 10, 10, 8)         808       \n",
            "_________________________________________________________________\n",
            "max_pooling2d_2 (MaxPooling2 (None, 5, 5, 8)           0         \n",
            "_________________________________________________________________\n",
            "flatten_1 (Flatten)          (None, 200)               0         \n",
            "_________________________________________________________________\n",
            "dense_1 (Dense)              (None, 128)               25728     \n",
            "_________________________________________________________________\n",
            "dense_2 (Dense)              (None, 46)                5934      \n",
            "=================================================================\n",
            "Total params: 32,774\n",
            "Trainable params: 32,774\n",
            "Non-trainable params: 0\n",
            "_________________________________________________________________\n"
          ],
          "name": "stdout"
        }
      ]
    },
    {
      "cell_type": "code",
      "metadata": {
        "id": "qpbFr8cWFWoN",
        "colab_type": "code",
        "colab": {}
      },
      "source": [
        ""
      ],
      "execution_count": 0,
      "outputs": []
    }
  ]
}